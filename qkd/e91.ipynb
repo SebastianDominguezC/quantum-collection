{
 "cells": [
  {
   "cell_type": "markdown",
   "metadata": {},
   "source": [
    "## E91 Protocol Implementation (from QWorld @ Womanium 2023)\n",
    "\n",
    "At the beginning of E91 protocol, Asja prepares EPR pairs:\n",
    "$$\\ket{\\psi}=\\frac{1}{\\sqrt{2}}\\ket{00} \\pm \\frac{1}{\\sqrt{2}}\\ket{11}$$\n",
    "\n",
    "**Note:** There is no need to choose random bit sequence or encoding bases as we did in BB84. One of the properties of EPR pairs is a random outcome as a result of performed measurement.\n",
    "\n",
    "For the measurements, our users use four bases: $Z$, $X$, $W$, $V$.\n",
    "\n",
    "<b>Asja will choose between - $Z$, $X$, $W$.\\\n",
    "Balvis will choose between - $Z$, $W$, $V$.</b>\n",
    "\n",
    "They need to choose measurement basis for each qubit independently and randomly."
   ]
  },
  {
   "cell_type": "markdown",
   "metadata": {},
   "source": [
    "<h3>Step 1: Distributing quantum states</h3>\n",
    "\n",
    "<ul>\n",
    "    <li>Asja prepares 200 EPR pairs.\n",
    "    <li>Asja keeps one qubit of EPR pair and sends second to Balvis.\n",
    "    <li>Asja randomly chooses measurement basis ($Z$,$X$ or $W$) and measures first qubit (qreg[0]).\n",
    "    <li>Asja saves information about measurement basis that she used for each qubit.\n",
    "    <li>Balvis randomly chooses measurement basis ($Z$, $W$ or $V$) and measures second qubit (qreg[1]).\n",
    "    <li>Balvis saves information about measurement basis that he used for each qubit."
   ]
  },
  {
   "cell_type": "code",
   "execution_count": 1,
   "metadata": {},
   "outputs": [],
   "source": [
    "# import all necessary objects and methods for quantum circuits\n",
    "from qiskit import QuantumRegister, ClassicalRegister, QuantumCircuit, execute, Aer\n",
    "from random import randrange"
   ]
  },
  {
   "cell_type": "code",
   "execution_count": 10,
   "metadata": {},
   "outputs": [],
   "source": [
    "#Registers for measurement bases and keys\n",
    "basesAsja, keyAsja = [],[]\n",
    "basesBalvis, keyBalvis = [],[]\n",
    "\n",
    "for i in range(200):  #Asja prepares 200 EPR pairs\n",
    "    qreg = QuantumRegister(2)\n",
    "    creg = ClassicalRegister(2) \n",
    "    mycircuit = QuantumCircuit(qreg, creg)\n",
    "\n",
    "    #Creating entanglement\n",
    "    mycircuit.h(qreg[0])\n",
    "    mycircuit.cx(qreg[0], qreg[1])\n",
    "\n",
    "    #Asja chooses measurement basis\n",
    "    choiceAsja=randrange(3)\n",
    "    if choiceAsja==0:#measurement in Z basis\n",
    "        basesAsja.append('Z')\n",
    "    if choiceAsja==1:#measurement in X basis\n",
    "        mycircuit.h(qreg[0])\n",
    "        basesAsja.append('X')\n",
    "    if choiceAsja==2:#measurement in W basis\n",
    "        mycircuit.s(qreg[0])\n",
    "        mycircuit.h(qreg[0])\n",
    "        mycircuit.t(qreg[0])\n",
    "        mycircuit.h(qreg[0])\n",
    "        basesAsja.append('W')\n",
    "\n",
    "    #Balvis chooses measurement basis\n",
    "    choiceBalvis=randrange(3)\n",
    "    if choiceBalvis==0:#measurement in Z basis\n",
    "        basesBalvis.append('Z')\n",
    "    if choiceBalvis==1:#measurement in W basis\n",
    "        mycircuit.s(qreg[1])\n",
    "        mycircuit.h(qreg[1])\n",
    "        mycircuit.t(qreg[1])\n",
    "        mycircuit.h(qreg[1])\n",
    "        basesBalvis.append('W')\n",
    "    if choiceBalvis==2:#measurement in V basis\n",
    "        mycircuit.s(qreg[1])\n",
    "        mycircuit.h(qreg[1])\n",
    "        mycircuit.tdg(qreg[1])\n",
    "        mycircuit.h(qreg[1])\n",
    "        basesBalvis.append('V')\n",
    "\n",
    "    mycircuit.measure(qreg,creg) #applying final measurement\n",
    "    job = execute(mycircuit,Aer.get_backend('qasm_simulator'),shots=1)\n",
    "    counts = job.result().get_counts(mycircuit)\n",
    "    \n",
    "    #Saving results\n",
    "    result=list(counts.keys())[0] #retrieve key from dictionary\n",
    "    keyAsja.append(int(result[0])) #saving first qubit value in Asja's key register \n",
    "    keyBalvis.append(int(result[1])) #and second to Balvis"
   ]
  },
  {
   "cell_type": "markdown",
   "metadata": {},
   "source": [
    "<h3>Step 2: Sifting</h3>\n",
    "\n",
    "Let's implement sifting phase.\\\n",
    "Asja and Balvis compare bases.\\\n",
    "If they used same measurement bases, they save corresponding bits to their final key strings.\\\n",
    "If bases mismatch, they keep corresponding bits and information about basis they used in separate registers."
   ]
  },
  {
   "cell_type": "code",
   "execution_count": 11,
   "metadata": {},
   "outputs": [],
   "source": [
    "#Registers\n",
    "finalKeyAsja, finalKeyBalvis = [],[] #for matching rounds\n",
    "diffAsja, diffBalvis = [],[] #missmatched rounds\n",
    "diffBasesA, diffBasesB = [],[] #bases of missmatched rounds\n",
    "for i in range(0, len(basesAsja)):\n",
    "    if basesAsja[i] == basesBalvis[i]: #When used same bases\n",
    "        finalKeyAsja.append(keyAsja[i])\n",
    "        finalKeyBalvis.append(keyBalvis[i]) \n",
    "    else: #When used different\n",
    "        diffAsja.append(keyAsja[i])\n",
    "        diffBalvis.append(keyBalvis[i])\n",
    "        diffBasesA.append(basesAsja[i])\n",
    "        diffBasesB.append(basesBalvis[i])"
   ]
  },
  {
   "cell_type": "markdown",
   "metadata": {},
   "source": [
    "<h3>QBER - CHSH Violation Test</h3>\n",
    "\n",
    "When users measure qubits using same bases, the outcome is perfect correlation.\n",
    "When they use different bases, the outcomes are completely random (uncorrelated).\n",
    "\n",
    "To detect eavesdropping, Asja and Balvis can compute the test statistic $S$ using the correlation coefficients between Asja's bases and Balvis':\n",
    "$$S=ZW+XW-XV+ZV$$"
   ]
  },
  {
   "cell_type": "markdown",
   "metadata": {},
   "source": [
    "From previous notebook, we know that to calculate $S$ we will need correlation values for four cases:\n",
    "<center> $ZW$ - Asja used $Z$ basis, Balvis used $W$\n",
    "<center> $XW$ - Asja used $X$ basis, Balvis used $W$\n",
    "<center> $XV$ - Asja used $X$ basis, Balvis used $V$\n",
    "<center> $ZV$ - Asja used $Z$ basis, Balvis used $V$"
   ]
  },
  {
   "cell_type": "markdown",
   "metadata": {},
   "source": [
    "For each case, correlation value can be calculated using formula:\n",
    "<center>$⟨A\\otimes B⟩=P(1,1)+P(0,0)-P(1,0)-P(0,1)$</center>\n",
    "\n",
    "Here, $P(1,1)$ and $P(0,0)$ are probabilities: numbers of rounds where Asja and Balvis obtained identical bits after measurement ($11$ and $00$) divided by total number of rounds where measurement is done with these two bases.\\\n",
    "$P(1,0)$ and $P(0,1)$ are probabilities: numbers of rounds where Asja and Balvis obtained different bits ($10$ and $01$) divided by total number of rounds where measurement is done with these two bases."
   ]
  },
  {
   "cell_type": "markdown",
   "metadata": {},
   "source": [
    "<h3>Step 3: CHSH inequality violation test</h3>\n",
    "\n",
    "Calculate correlation values and $S$."
   ]
  },
  {
   "cell_type": "code",
   "execution_count": 12,
   "metadata": {},
   "outputs": [],
   "source": [
    "#ZW\n",
    "sameZW = 0\n",
    "diffZW = 0\n",
    "\n",
    "for i, (bA, bB) in enumerate(zip(diffBasesA, diffBasesB)):\n",
    "    if (bA == 'Z' and bB == 'W'):\n",
    "        if diffAsja[i]==diffBalvis[i]:\n",
    "            sameZW=sameZW+1\n",
    "        else:\n",
    "            diffZW=diffZW+1\n",
    "\n",
    "totalZW=sameZW+diffZW\n",
    "if totalZW!=0:\n",
    "    ZW=(sameZW-diffZW)/totalZW\n",
    "else:\n",
    "    ZW=0"
   ]
  },
  {
   "cell_type": "code",
   "execution_count": 13,
   "metadata": {},
   "outputs": [],
   "source": [
    "#XW\n",
    "sameXW = 0\n",
    "diffXW = 0\n",
    "for i, (bA, bB) in enumerate(zip(diffBasesA, diffBasesB)):\n",
    "    if (bA == 'X' and bB == 'W'):\n",
    "        if diffAsja[i]==diffBalvis[i]:\n",
    "            sameXW=sameXW+1\n",
    "        else:\n",
    "            diffXW=diffXW+1\n",
    "\n",
    "totalXW=sameXW+diffXW\n",
    "if totalXW!=0:\n",
    "    XW=(sameXW-diffXW)/totalXW\n",
    "else:\n",
    "    XW=0"
   ]
  },
  {
   "cell_type": "code",
   "execution_count": 14,
   "metadata": {},
   "outputs": [],
   "source": [
    "#XV\n",
    "sameXV = 0\n",
    "diffXV = 0\n",
    "for i, (bA, bB) in enumerate(zip(diffBasesA, diffBasesB)):\n",
    "    if (bA == 'X' and bB == 'V'):\n",
    "        if diffAsja[i]==diffBalvis[i]:\n",
    "            sameXV=sameXV+1\n",
    "        else:\n",
    "            diffXV=diffXV+1\n",
    "\n",
    "totalXV=sameXV+diffXV\n",
    "if totalXV!=0:\n",
    "    XV=(sameXV-diffXV)/totalXV\n",
    "else:\n",
    "    XV=0"
   ]
  },
  {
   "cell_type": "code",
   "execution_count": 15,
   "metadata": {},
   "outputs": [],
   "source": [
    "#ZV\n",
    "sameZV = 0\n",
    "diffZV = 0\n",
    "for i, (bA, bB) in enumerate(zip(diffBasesA, diffBasesB)):\n",
    "    if (bA == 'Z' and bB == 'V'):\n",
    "        if diffAsja[i]==diffBalvis[i]:\n",
    "            sameZV=sameZV+1\n",
    "        else:\n",
    "            diffZV=diffZV+1\n",
    "\n",
    "totalZV=sameZV+diffZV\n",
    "if totalZV!=0:\n",
    "    ZV=(sameZV-diffZV)/totalZV\n",
    "\n",
    "else:\n",
    "    ZV=0"
   ]
  },
  {
   "cell_type": "code",
   "execution_count": 16,
   "metadata": {},
   "outputs": [
    {
     "name": "stdout",
     "output_type": "stream",
     "text": [
      "CHSH inequality value is 2.7698412698412698\n"
     ]
    }
   ],
   "source": [
    "S=ZW+XW-XV+ZV\n",
    "\n",
    "print(\"CHSH inequality value is\", S)"
   ]
  },
  {
   "cell_type": "markdown",
   "metadata": {},
   "source": [
    "Maximally entangled photons would result in $S= ± 2\\sqrt{2}$.\n",
    "\n",
    "If this were not the case, then Asja and Balvis can conclude Espian has introduced errors to the system. \n",
    "\n",
    "If $S$ \n",
    "value corresponds to quantum system, Asja and Balvis can use bits from matching round as a secret key!"
   ]
  },
  {
   "cell_type": "code",
   "execution_count": 17,
   "metadata": {},
   "outputs": [
    {
     "name": "stdout",
     "output_type": "stream",
     "text": [
      "[1, 1, 0, 1, 1, 1, 1, 1, 0, 0, 1, 0, 1, 0, 1, 1, 0, 1, 0, 1, 1, 0, 1, 1, 1, 0, 1, 0, 1, 1, 1, 0, 1, 0, 0, 1, 0, 0, 0, 1, 1, 1, 0, 1, 0, 1, 0, 1, 1, 1, 1, 1, 0, 0]\n",
      "[1, 1, 0, 1, 1, 1, 1, 1, 0, 0, 1, 0, 1, 0, 1, 1, 0, 1, 0, 1, 1, 0, 1, 1, 1, 0, 1, 0, 1, 1, 1, 0, 1, 0, 0, 1, 0, 0, 0, 1, 1, 1, 0, 1, 0, 1, 0, 1, 1, 1, 1, 1, 0, 0]\n"
     ]
    }
   ],
   "source": [
    "print(finalKeyAsja)\n",
    "print(finalKeyBalvis)"
   ]
  },
  {
   "cell_type": "markdown",
   "metadata": {},
   "source": [
    "<font style=\"color:darkorange;font-weight:bold;\"> <h2>Task 1</h2> </font>\n",
    "\n",
    "Re-run this program for different number of EPR pairs.\n",
    "\n",
    "Hint: You only need to change the number of loop iterations at the very start."
   ]
  },
  {
   "cell_type": "markdown",
   "metadata": {},
   "source": [
    "Next: [Security of E91 Protocol](QC22_Security_of_E91_protocol.ipynb)"
   ]
  }
 ],
 "metadata": {
  "kernelspec": {
   "display_name": "Python 3 (ipykernel)",
   "language": "python",
   "name": "python3"
  },
  "language_info": {
   "codemirror_mode": {
    "name": "ipython",
    "version": 3
   },
   "file_extension": ".py",
   "mimetype": "text/x-python",
   "name": "python",
   "nbconvert_exporter": "python",
   "pygments_lexer": "ipython3",
   "version": "3.10.9"
  }
 },
 "nbformat": 4,
 "nbformat_minor": 4
}
