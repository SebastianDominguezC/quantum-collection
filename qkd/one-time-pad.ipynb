{
 "cells": [
  {
   "cell_type": "markdown",
   "metadata": {},
   "source": [
    "# One time pad\n",
    "A basic one time pad implementation, where a random key is generated which encodes the algorithm in either `X` or `Z` basis."
   ]
  },
  {
   "cell_type": "markdown",
   "metadata": {},
   "source": [
    "Encryption"
   ]
  },
  {
   "cell_type": "code",
   "execution_count": 1,
   "metadata": {},
   "outputs": [
    {
     "name": "stdout",
     "output_type": "stream",
     "text": [
      "Encryption {'00010011010': 1024}\n",
      "\n",
      "Message: 11011011001\n",
      "Key: 1001010000001001010011\n",
      "\n",
      "Encrypted Message: [0, 1, 0, 1, 1, 0, 0, 1, 0, 0, 0]\n"
     ]
    },
    {
     "data": {
      "text/html": [
       "<pre style=\"word-wrap: normal;white-space: pre;background: #fff0;line-height: 1.1;font-family: &quot;Courier New&quot;,Courier,monospace\">       ┌───┐ ░ ┌───┐      ░ ┌─┐                              \n",
       " q0_0: ┤ X ├─░─┤ X ├──────░─┤M├──────────────────────────────\n",
       "       ├───┤ ░ ├───┤      ░ └╥┘┌─┐                           \n",
       " q0_1: ┤ X ├─░─┤ Z ├──────░──╫─┤M├───────────────────────────\n",
       "       └───┘ ░ ├───┤      ░  ║ └╥┘┌─┐                        \n",
       " q0_2: ──────░─┤ Z ├──────░──╫──╫─┤M├────────────────────────\n",
       "       ┌───┐ ░ └───┘      ░  ║  ║ └╥┘┌─┐                     \n",
       " q0_3: ┤ X ├─░────────────░──╫──╫──╫─┤M├─────────────────────\n",
       "       ├───┤ ░            ░  ║  ║  ║ └╥┘┌─┐                  \n",
       " q0_4: ┤ X ├─░────────────░──╫──╫──╫──╫─┤M├──────────────────\n",
       "       └───┘ ░            ░  ║  ║  ║  ║ └╥┘┌─┐               \n",
       " q0_5: ──────░────────────░──╫──╫──╫──╫──╫─┤M├───────────────\n",
       "       ┌───┐ ░ ┌───┐      ░  ║  ║  ║  ║  ║ └╥┘┌─┐            \n",
       " q0_6: ┤ X ├─░─┤ X ├──────░──╫──╫──╫──╫──╫──╫─┤M├────────────\n",
       "       ├───┤ ░ ├───┤      ░  ║  ║  ║  ║  ║  ║ └╥┘┌─┐         \n",
       " q0_7: ┤ X ├─░─┤ Z ├──────░──╫──╫──╫──╫──╫──╫──╫─┤M├─────────\n",
       "       └───┘ ░ ├───┤      ░  ║  ║  ║  ║  ║  ║  ║ └╥┘┌─┐      \n",
       " q0_8: ──────░─┤ Z ├──────░──╫──╫──╫──╫──╫──╫──╫──╫─┤M├──────\n",
       "             ░ └───┘      ░  ║  ║  ║  ║  ║  ║  ║  ║ └╥┘┌─┐   \n",
       " q0_9: ──────░────────────░──╫──╫──╫──╫──╫──╫──╫──╫──╫─┤M├───\n",
       "       ┌───┐ ░ ┌───┐┌───┐ ░  ║  ║  ║  ║  ║  ║  ║  ║  ║ └╥┘┌─┐\n",
       "q0_10: ┤ X ├─░─┤ Z ├┤ X ├─░──╫──╫──╫──╫──╫──╫──╫──╫──╫──╫─┤M├\n",
       "       └───┘ ░ └───┘└───┘ ░  ║  ║  ║  ║  ║  ║  ║  ║  ║  ║ └╥┘\n",
       "c0: 11/══════════════════════╩══╩══╩══╩══╩══╩══╩══╩══╩══╩══╩═\n",
       "                             0  1  2  3  4  5  6  7  8  9  10</pre>"
      ],
      "text/plain": [
       "       ┌───┐ ░ ┌───┐      ░ ┌─┐                              \n",
       " q0_0: ┤ X ├─░─┤ X ├──────░─┤M├──────────────────────────────\n",
       "       ├───┤ ░ ├───┤      ░ └╥┘┌─┐                           \n",
       " q0_1: ┤ X ├─░─┤ Z ├──────░──╫─┤M├───────────────────────────\n",
       "       └───┘ ░ ├───┤      ░  ║ └╥┘┌─┐                        \n",
       " q0_2: ──────░─┤ Z ├──────░──╫──╫─┤M├────────────────────────\n",
       "       ┌───┐ ░ └───┘      ░  ║  ║ └╥┘┌─┐                     \n",
       " q0_3: ┤ X ├─░────────────░──╫──╫──╫─┤M├─────────────────────\n",
       "       ├───┤ ░            ░  ║  ║  ║ └╥┘┌─┐                  \n",
       " q0_4: ┤ X ├─░────────────░──╫──╫──╫──╫─┤M├──────────────────\n",
       "       └───┘ ░            ░  ║  ║  ║  ║ └╥┘┌─┐               \n",
       " q0_5: ──────░────────────░──╫──╫──╫──╫──╫─┤M├───────────────\n",
       "       ┌───┐ ░ ┌───┐      ░  ║  ║  ║  ║  ║ └╥┘┌─┐            \n",
       " q0_6: ┤ X ├─░─┤ X ├──────░──╫──╫──╫──╫──╫──╫─┤M├────────────\n",
       "       ├───┤ ░ ├───┤      ░  ║  ║  ║  ║  ║  ║ └╥┘┌─┐         \n",
       " q0_7: ┤ X ├─░─┤ Z ├──────░──╫──╫──╫──╫──╫──╫──╫─┤M├─────────\n",
       "       └───┘ ░ ├───┤      ░  ║  ║  ║  ║  ║  ║  ║ └╥┘┌─┐      \n",
       " q0_8: ──────░─┤ Z ├──────░──╫──╫──╫──╫──╫──╫──╫──╫─┤M├──────\n",
       "             ░ └───┘      ░  ║  ║  ║  ║  ║  ║  ║  ║ └╥┘┌─┐   \n",
       " q0_9: ──────░────────────░──╫──╫──╫──╫──╫──╫──╫──╫──╫─┤M├───\n",
       "       ┌───┐ ░ ┌───┐┌───┐ ░  ║  ║  ║  ║  ║  ║  ║  ║  ║ └╥┘┌─┐\n",
       "q0_10: ┤ X ├─░─┤ Z ├┤ X ├─░──╫──╫──╫──╫──╫──╫──╫──╫──╫──╫─┤M├\n",
       "       └───┘ ░ └───┘└───┘ ░  ║  ║  ║  ║  ║  ║  ║  ║  ║  ║ └╥┘\n",
       "c0: 11/══════════════════════╩══╩══╩══╩══╩══╩══╩══╩══╩══╩══╩═\n",
       "                             0  1  2  3  4  5  6  7  8  9  10"
      ]
     },
     "metadata": {},
     "output_type": "display_data"
    }
   ],
   "source": [
    "### YOUR CODE HERE ###\n",
    "from qiskit import QuantumRegister, ClassicalRegister, QuantumCircuit, execute, Aer\n",
    "from random import randrange, seed\n",
    "\n",
    "# Registers + Circuit\n",
    "M = \"11011011001\"\n",
    "n = len(M)\n",
    "\n",
    "qs = QuantumRegister(n)\n",
    "cs = ClassicalRegister(n)\n",
    "\n",
    "qc = QuantumCircuit(qs, cs)\n",
    "\n",
    "# Random key\n",
    "key = \"\"\n",
    "for i in range(n):\n",
    "    x = randrange(0, 2)\n",
    "    z = randrange(0, 2)\n",
    "    key += f\"{x}{z}\"\n",
    "\n",
    "# Insert message\n",
    "for i in range(n):\n",
    "    if M[i] == \"1\":\n",
    "        qc.x(i)\n",
    "\n",
    "qc.barrier()\n",
    "\n",
    "# Encode message\n",
    "for i in range(n):\n",
    "    j = 2 * i\n",
    "    \n",
    "    if key[j + 1] == \"1\":\n",
    "        qc.z(i)\n",
    "    if key[j] == \"1\":\n",
    "        qc.x(i)\n",
    "    \n",
    "qc.barrier()\n",
    "\n",
    "# Measure\n",
    "qc.measure(qs, cs)\n",
    "\n",
    "# Simulate\n",
    "job = execute(qc, Aer.get_backend('qasm_simulator'))\n",
    "encryption = job.result().get_counts(qc)\n",
    "\n",
    "print(\"Encryption\", encryption)\n",
    "\n",
    "encrypted_message = list(map(int,[*list(encryption.keys())[0]]))\n",
    "encrypted_message.reverse()\n",
    "\n",
    "print()\n",
    "print(\"Message:\", M)\n",
    "print(\"Key:\", key)\n",
    "print()\n",
    "print(\"Encrypted Message:\", encrypted_message)\n",
    "\n",
    "display(qc.draw())\n"
   ]
  },
  {
   "cell_type": "markdown",
   "metadata": {},
   "source": [
    "Decryption"
   ]
  },
  {
   "cell_type": "code",
   "execution_count": 2,
   "metadata": {},
   "outputs": [
    {
     "name": "stdout",
     "output_type": "stream",
     "text": [
      "Decryption {'10011011011': 1024}\n",
      "\n",
      "Message: 11011011001\n",
      "\n",
      "Decrypted Message: [1, 1, 0, 1, 1, 0, 1, 1, 0, 0, 1]\n"
     ]
    },
    {
     "data": {
      "text/html": [
       "<pre style=\"word-wrap: normal;white-space: pre;background: #fff0;line-height: 1.1;font-family: &quot;Courier New&quot;,Courier,monospace\">             ░ ┌───┐      ░ ┌─┐                              \n",
       " q0_0: ──────░─┤ X ├──────░─┤M├──────────────────────────────\n",
       "       ┌───┐ ░ ├───┤      ░ └╥┘┌─┐                           \n",
       " q0_1: ┤ X ├─░─┤ Z ├──────░──╫─┤M├───────────────────────────\n",
       "       └───┘ ░ ├───┤      ░  ║ └╥┘┌─┐                        \n",
       " q0_2: ──────░─┤ Z ├──────░──╫──╫─┤M├────────────────────────\n",
       "       ┌───┐ ░ └───┘      ░  ║  ║ └╥┘┌─┐                     \n",
       " q0_3: ┤ X ├─░────────────░──╫──╫──╫─┤M├─────────────────────\n",
       "       ├───┤ ░            ░  ║  ║  ║ └╥┘┌─┐                  \n",
       " q0_4: ┤ X ├─░────────────░──╫──╫──╫──╫─┤M├──────────────────\n",
       "       └───┘ ░            ░  ║  ║  ║  ║ └╥┘┌─┐               \n",
       " q0_5: ──────░────────────░──╫──╫──╫──╫──╫─┤M├───────────────\n",
       "             ░ ┌───┐      ░  ║  ║  ║  ║  ║ └╥┘┌─┐            \n",
       " q0_6: ──────░─┤ X ├──────░──╫──╫──╫──╫──╫──╫─┤M├────────────\n",
       "       ┌───┐ ░ ├───┤      ░  ║  ║  ║  ║  ║  ║ └╥┘┌─┐         \n",
       " q0_7: ┤ X ├─░─┤ Z ├──────░──╫──╫──╫──╫──╫──╫──╫─┤M├─────────\n",
       "       └───┘ ░ ├───┤      ░  ║  ║  ║  ║  ║  ║  ║ └╥┘┌─┐      \n",
       " q0_8: ──────░─┤ Z ├──────░──╫──╫──╫──╫──╫──╫──╫──╫─┤M├──────\n",
       "             ░ └───┘      ░  ║  ║  ║  ║  ║  ║  ║  ║ └╥┘┌─┐   \n",
       " q0_9: ──────░────────────░──╫──╫──╫──╫──╫──╫──╫──╫──╫─┤M├───\n",
       "             ░ ┌───┐┌───┐ ░  ║  ║  ║  ║  ║  ║  ║  ║  ║ └╥┘┌─┐\n",
       "q0_10: ──────░─┤ X ├┤ Z ├─░──╫──╫──╫──╫──╫──╫──╫──╫──╫──╫─┤M├\n",
       "             ░ └───┘└───┘ ░  ║  ║  ║  ║  ║  ║  ║  ║  ║  ║ └╥┘\n",
       "c0: 11/══════════════════════╩══╩══╩══╩══╩══╩══╩══╩══╩══╩══╩═\n",
       "                             0  1  2  3  4  5  6  7  8  9  10</pre>"
      ],
      "text/plain": [
       "             ░ ┌───┐      ░ ┌─┐                              \n",
       " q0_0: ──────░─┤ X ├──────░─┤M├──────────────────────────────\n",
       "       ┌───┐ ░ ├───┤      ░ └╥┘┌─┐                           \n",
       " q0_1: ┤ X ├─░─┤ Z ├──────░──╫─┤M├───────────────────────────\n",
       "       └───┘ ░ ├───┤      ░  ║ └╥┘┌─┐                        \n",
       " q0_2: ──────░─┤ Z ├──────░──╫──╫─┤M├────────────────────────\n",
       "       ┌───┐ ░ └───┘      ░  ║  ║ └╥┘┌─┐                     \n",
       " q0_3: ┤ X ├─░────────────░──╫──╫──╫─┤M├─────────────────────\n",
       "       ├───┤ ░            ░  ║  ║  ║ └╥┘┌─┐                  \n",
       " q0_4: ┤ X ├─░────────────░──╫──╫──╫──╫─┤M├──────────────────\n",
       "       └───┘ ░            ░  ║  ║  ║  ║ └╥┘┌─┐               \n",
       " q0_5: ──────░────────────░──╫──╫──╫──╫──╫─┤M├───────────────\n",
       "             ░ ┌───┐      ░  ║  ║  ║  ║  ║ └╥┘┌─┐            \n",
       " q0_6: ──────░─┤ X ├──────░──╫──╫──╫──╫──╫──╫─┤M├────────────\n",
       "       ┌───┐ ░ ├───┤      ░  ║  ║  ║  ║  ║  ║ └╥┘┌─┐         \n",
       " q0_7: ┤ X ├─░─┤ Z ├──────░──╫──╫──╫──╫──╫──╫──╫─┤M├─────────\n",
       "       └───┘ ░ ├───┤      ░  ║  ║  ║  ║  ║  ║  ║ └╥┘┌─┐      \n",
       " q0_8: ──────░─┤ Z ├──────░──╫──╫──╫──╫──╫──╫──╫──╫─┤M├──────\n",
       "             ░ └───┘      ░  ║  ║  ║  ║  ║  ║  ║  ║ └╥┘┌─┐   \n",
       " q0_9: ──────░────────────░──╫──╫──╫──╫──╫──╫──╫──╫──╫─┤M├───\n",
       "             ░ ┌───┐┌───┐ ░  ║  ║  ║  ║  ║  ║  ║  ║  ║ └╥┘┌─┐\n",
       "q0_10: ──────░─┤ X ├┤ Z ├─░──╫──╫──╫──╫──╫──╫──╫──╫──╫──╫─┤M├\n",
       "             ░ └───┘└───┘ ░  ║  ║  ║  ║  ║  ║  ║  ║  ║  ║ └╥┘\n",
       "c0: 11/══════════════════════╩══╩══╩══╩══╩══╩══╩══╩══╩══╩══╩═\n",
       "                             0  1  2  3  4  5  6  7  8  9  10"
      ]
     },
     "metadata": {},
     "output_type": "display_data"
    }
   ],
   "source": [
    "# Registers + Circuit\n",
    "qs2 = QuantumRegister(n)\n",
    "cs2 = ClassicalRegister(n)\n",
    "\n",
    "qc2 = QuantumCircuit(qs, cs)\n",
    "\n",
    "# Insert encrypted message\n",
    "for i in range(n):\n",
    "    if encrypted_message[i] == 1:\n",
    "        qc2.x(i)\n",
    "\n",
    "qc2.barrier()\n",
    "\n",
    "# Encode message\n",
    "for i in range(n):\n",
    "    j = 2 * i\n",
    "    \n",
    "    if key[j] == \"1\":\n",
    "        qc2.x(i)\n",
    "    if key[j + 1] == \"1\":\n",
    "        qc2.z(i)\n",
    "\n",
    "qc2.barrier()\n",
    "\n",
    "# Measure\n",
    "qc2.measure(qs, cs)\n",
    "\n",
    "# Simulate\n",
    "job = execute(qc2, Aer.get_backend('qasm_simulator'))\n",
    "decryption = job.result().get_counts(qc2)\n",
    "\n",
    "print(\"Decryption\", decryption)\n",
    "\n",
    "decrypted_message = list(map(int,[*list(decryption.keys())[0]]))\n",
    "decrypted_message.reverse()\n",
    "\n",
    "print()\n",
    "print(\"Message:\", M)\n",
    "print()\n",
    "print(\"Decrypted Message:\", decrypted_message)\n",
    "\n",
    "display(qc2.draw())"
   ]
  },
  {
   "cell_type": "code",
   "execution_count": null,
   "metadata": {},
   "outputs": [],
   "source": []
  }
 ],
 "metadata": {
  "kernelspec": {
   "display_name": "Python 3",
   "language": "python",
   "name": "python3"
  },
  "language_info": {
   "codemirror_mode": {
    "name": "ipython",
    "version": 3
   },
   "file_extension": ".py",
   "mimetype": "text/x-python",
   "name": "python",
   "nbconvert_exporter": "python",
   "pygments_lexer": "ipython3",
   "version": "3.10.7"
  },
  "orig_nbformat": 4
 },
 "nbformat": 4,
 "nbformat_minor": 2
}
