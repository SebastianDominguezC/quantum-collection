{
  "cells": [
    {
      "cell_type": "markdown",
      "metadata": {},
      "source": [
        "# Quantum machine learning introduction\n",
        "An introduction to QML by Pennylane @ `Womanium 2023`\n"
      ]
    },
    {
      "cell_type": "markdown",
      "metadata": {
        "id": "yl6qK6afNB07"
      },
      "source": [
        "## Pennylane intro"
      ]
    },
    {
      "cell_type": "code",
      "execution_count": null,
      "metadata": {
        "id": "o0aHOs0o_U9m"
      },
      "outputs": [],
      "source": [
        "# Imports\n",
        "import pennylane as qml\n",
        "from pennylane import numpy as np"
      ]
    },
    {
      "cell_type": "code",
      "execution_count": null,
      "metadata": {
        "id": "_M2US6tuAfI9"
      },
      "outputs": [],
      "source": [
        "# Declare device\n",
        "dev = qml.device('lightning.qubit', wires = 2)"
      ]
    },
    {
      "cell_type": "code",
      "execution_count": null,
      "metadata": {
        "id": "q0v2a_MXA6sQ"
      },
      "outputs": [],
      "source": [
        "# Whatever I do bellow, run it on the device dev\n",
        "@qml.qnode(dev)\n",
        "def circuit():\n",
        "  qml.Hadamard(wires = 0)\n",
        "  qml.CNOT(wires = [0, 1])\n",
        "  return qml.probs()"
      ]
    },
    {
      "cell_type": "code",
      "execution_count": null,
      "metadata": {
        "colab": {
          "base_uri": "https://localhost:8080/",
          "height": 355
        },
        "id": "I9OU4ZQNBY5z",
        "outputId": "28506a90-a45c-438a-812c-6d45bae44f6a"
      },
      "outputs": [
        {
          "data": {
            "text/plain": [
              "(<Figure size 500x300 with 1 Axes>, <Axes: >)"
            ]
          },
          "execution_count": 5,
          "metadata": {},
          "output_type": "execute_result"
        },
        {
          "data": {
            "image/png": "[encoded data removed]",
            "text/plain": [
              "<Figure size 500x300 with 1 Axes>"
            ]
          },
          "metadata": {},
          "output_type": "display_data"
        }
      ],
      "source": [
        "# Draw circuit\n",
        "qml.draw_mpl(circuit)()"
      ]
    },
    {
      "cell_type": "code",
      "execution_count": null,
      "metadata": {
        "colab": {
          "base_uri": "https://localhost:8080/"
        },
        "id": "t1g58sBbBubm",
        "outputId": "10abaa22-8b28-459c-f393-9f9b0a39756d"
      },
      "outputs": [
        {
          "data": {
            "text/plain": [
              "tensor([0.5, 0. , 0. , 0.5], requires_grad=True)"
            ]
          },
          "execution_count": 6,
          "metadata": {},
          "output_type": "execute_result"
        }
      ],
      "source": [
        "# Run circuit\n",
        "circuit()"
      ]
    },
    {
      "cell_type": "markdown",
      "metadata": {
        "id": "P_MJfCQBCmXi"
      },
      "source": [
        "### Parametrized circuit with 1 qubit"
      ]
    },
    {
      "cell_type": "code",
      "execution_count": null,
      "metadata": {
        "id": "ACUtyBEEB7_k"
      },
      "outputs": [],
      "source": [
        "# Create a device with 1 qubit\n",
        "dev2 = qml.device('default.qubit', wires = 1)"
      ]
    },
    {
      "cell_type": "code",
      "execution_count": null,
      "metadata": {
        "id": "0keUCjYqC1js"
      },
      "outputs": [],
      "source": [
        "# Create parametrized circuit\n",
        "@qml.qnode(dev2)\n",
        "def circuit2(params):\n",
        "  qml.RX(params[0], wires = 0)\n",
        "  qml.RY(params[1], wires = 0)\n",
        "  return qml.expval(qml.PauliZ(0))"
      ]
    },
    {
      "cell_type": "code",
      "execution_count": null,
      "metadata": {
        "colab": {
          "base_uri": "https://localhost:8080/",
          "height": 255
        },
        "id": "fXgTbQI8Dqeh",
        "outputId": "8c7d6fc2-0fb1-4fcd-cb25-b37bdf1f877a"
      },
      "outputs": [
        {
          "data": {
            "text/plain": [
              "(<Figure size 500x200 with 1 Axes>, <Axes: >)"
            ]
          },
          "execution_count": 9,
          "metadata": {},
          "output_type": "execute_result"
        },
        {
          "data": {
            "image/png": "[encoded data removed]",
            "text/plain": [
              "<Figure size 500x200 with 1 Axes>"
            ]
          },
          "metadata": {},
          "output_type": "display_data"
        }
      ],
      "source": [
        "# Draw\n",
        "qml.draw_mpl(circuit2)([0.1, 0.2])"
      ]
    },
    {
      "cell_type": "code",
      "execution_count": null,
      "metadata": {
        "colab": {
          "base_uri": "https://localhost:8080/"
        },
        "id": "Y35TO3FVDwaQ",
        "outputId": "4d2a77d5-0054-40a3-be0f-68e9800e3451"
      },
      "outputs": [
        {
          "data": {
            "text/plain": [
              "tensor(0.86008934, requires_grad=True)"
            ]
          },
          "execution_count": 10,
          "metadata": {},
          "output_type": "execute_result"
        }
      ],
      "source": [
        "circuit2([0.5, 0.2])"
      ]
    },
    {
      "cell_type": "markdown",
      "metadata": {
        "id": "x892nfJNEH9v"
      },
      "source": [
        "### Create an optimization routine"
      ]
    },
    {
      "cell_type": "code",
      "execution_count": null,
      "metadata": {
        "id": "HxoCP8cZEFfD"
      },
      "outputs": [],
      "source": [
        "# Create a classical cost fx\n",
        "def cost(params):\n",
        "  return np.abs(circuit2(params)) ** 2"
      ]
    },
    {
      "cell_type": "code",
      "execution_count": null,
      "metadata": {
        "id": "vlzeU4NWEwor"
      },
      "outputs": [],
      "source": [
        "# Choose an optimizer\n",
        "opt = qml.GradientDescentOptimizer(stepsize = 0.3)"
      ]
    },
    {
      "cell_type": "code",
      "execution_count": null,
      "metadata": {
        "id": "QiYH6ZLTFD80"
      },
      "outputs": [],
      "source": [
        "# Make an initial guess for the params and set as trainable\n",
        "params = np.array([1, 2], requires_grad = True)"
      ]
    },
    {
      "cell_type": "code",
      "execution_count": null,
      "metadata": {
        "colab": {
          "base_uri": "https://localhost:8080/"
        },
        "id": "wVCSitgdFw34",
        "outputId": "f34dde0d-2383-4db5-82f1-f88c7e940e65"
      },
      "outputs": [
        {
          "name": "stdout",
          "output_type": "stream",
          "text": [
            "0-------\n",
            "Params: [1. 2.]\n",
            "Cost: 0.05055531691021436\n",
            "1-------\n",
            "Params: [1.04724114 1.93372077]\n",
            "Cost: 0.031503213881533536\n",
            "2-------\n",
            "Params: [1.07998354 1.88394549]\n",
            "Cost: 0.021083064730380734\n",
            "3-------\n",
            "Params: [1.1036532  1.84487907]\n",
            "Cost: 0.014857201131578953\n",
            "4-------\n",
            "Params: [1.12132712 1.8131734 ]\n",
            "Cost: 0.010874680803725773\n",
            "5-------\n",
            "Params: [1.13485283 1.78678256]\n",
            "Cost: 0.008189553359878332\n",
            "6-------\n",
            "Params: [1.14540107 1.76438722]\n",
            "Cost: 0.00630327505899032\n",
            "7-------\n",
            "Params: [1.15374868 1.74509602]\n",
            "Cost: 0.00493441583742822\n",
            "8-------\n",
            "Params: [1.16043132 1.72828241]\n",
            "Cost: 0.003914848551777359\n",
            "9-------\n",
            "Params: [1.1658303 1.7134909]\n",
            "Cost: 0.0031392809935131077\n"
          ]
        }
      ],
      "source": [
        "# Iterate over steps\n",
        "for it in range(10):\n",
        "  params = opt.step(cost, params)\n",
        "  print(f'{it}-------')\n",
        "  print(f'Params: {params}')\n",
        "  print(f'Cost: {cost(params)}')"
      ]
    },
    {
      "cell_type": "markdown",
      "metadata": {
        "id": "tKR3QAuQHuIj"
      },
      "source": [
        "## QML demo"
      ]
    },
    {
      "cell_type": "code",
      "execution_count": null,
      "metadata": {
        "id": "vIhxpFkSHwLS"
      },
      "outputs": [],
      "source": [
        "# Imports\n",
        "import pennylane as qml\n",
        "from pennylane import numpy as np\n",
        "import matplotlib.pyplot as plt"
      ]
    },
    {
      "cell_type": "code",
      "execution_count": null,
      "metadata": {
        "id": "TTyJwaf6IF9M"
      },
      "outputs": [],
      "source": [
        "# Get data ready\n",
        "X = np.linspace(0, 2 * np.pi, 10)\n",
        "\n",
        "X.requires_grad = False\n",
        "\n",
        "X_test = np.linspace(0 + 0.2, 2 * np.pi + 0.2, 10)"
      ]
    },
    {
      "cell_type": "code",
      "execution_count": null,
      "metadata": {
        "id": "IhqpN56oIhjy"
      },
      "outputs": [],
      "source": [
        "# Create device\n",
        "dev3 = qml.device('lightning.qubit', wires = 1)"
      ]
    },
    {
      "cell_type": "code",
      "execution_count": null,
      "metadata": {
        "id": "p9BLX86rIm_t"
      },
      "outputs": [],
      "source": [
        "# Create q circuit\n",
        "@qml.qnode(dev3)\n",
        "def circuit3(params, x):\n",
        "  qml.RX(x, wires = 0)\n",
        "  qml.Rot(params[0], params[1], params[2], wires = 0)\n",
        "  return qml.expval(qml.PauliZ(0))"
      ]
    },
    {
      "cell_type": "code",
      "execution_count": null,
      "metadata": {
        "colab": {
          "base_uri": "https://localhost:8080/"
        },
        "id": "vEWIKOwJJLN9",
        "outputId": "167ed4b5-c04b-46ef-cd76-f90b67620142"
      },
      "outputs": [
        {
          "data": {
            "text/plain": [
              "array(0.98006658)"
            ]
          },
          "execution_count": 19,
          "metadata": {},
          "output_type": "execute_result"
        }
      ],
      "source": [
        "circuit3([0.1, 0.2, 0.3], 0)"
      ]
    },
    {
      "cell_type": "code",
      "execution_count": null,
      "metadata": {
        "colab": {
          "base_uri": "https://localhost:8080/",
          "height": 255
        },
        "id": "t9Wr9-7UJllr",
        "outputId": "fd362b22-f39f-4778-f86b-b17652c90189"
      },
      "outputs": [
        {
          "data": {
            "text/plain": [
              "(<Figure size 500x200 with 1 Axes>, <Axes: >)"
            ]
          },
          "execution_count": 20,
          "metadata": {},
          "output_type": "execute_result"
        },
        {
          "data": {
            "image/png": "[encoded data removed]",
            "text/plain": [
              "<Figure size 500x200 with 1 Axes>"
            ]
          },
          "metadata": {},
          "output_type": "display_data"
        }
      ],
      "source": [
        "qml.draw_mpl(circuit3)([0.1, 0.2, 0.3], 0)"
      ]
    },
    {
      "cell_type": "code",
      "execution_count": null,
      "metadata": {
        "id": "5_TDUY5rJ1G4"
      },
      "outputs": [],
      "source": [
        "# Classical pre/post processing\n",
        "def loss(Y, predictions):\n",
        "  total_loss = 0\n",
        "\n",
        "  for y, p in zip(Y, predictions):\n",
        "    total_loss += (y - p) ** 2\n",
        "\n",
        "  return total_loss"
      ]
    },
    {
      "cell_type": "code",
      "execution_count": null,
      "metadata": {
        "id": "sMMaAe3DK5Yw"
      },
      "outputs": [],
      "source": [
        "# Define cost function\n",
        "def cost(params, X):\n",
        "  predictions = [circuit3(params, x) for x in X]\n",
        "  Y = np.sin(X)\n",
        "  return loss(Y, predictions)"
      ]
    },
    {
      "cell_type": "code",
      "execution_count": null,
      "metadata": {
        "colab": {
          "base_uri": "https://localhost:8080/"
        },
        "id": "FdBYtrEnLIze",
        "outputId": "c4aab4e1-e975-4524-f809-2f0bfd70ac69"
      },
      "outputs": [
        {
          "name": "stdout",
          "output_type": "stream",
          "text": [
            "0---------------\n",
            "Params: [-0.08143775  0.32437448  0.3       ]\n",
            "Cost: 9.210994210887472\n",
            "1---------------\n",
            "Params: [-0.35991913  0.72427475  0.3       ]\n",
            "Cost: 5.730129927152105\n",
            "2---------------\n",
            "Params: [-0.7877965   1.45217779  0.3       ]\n",
            "Cost: 0.47177653517405505\n",
            "3---------------\n",
            "Params: [-0.97451043  1.60379687  0.3       ]\n",
            "Cost: 0.1407045363865695\n",
            "4---------------\n",
            "Params: [-1.06191162  1.56327134  0.3       ]\n",
            "Cost: 0.07259083788339024\n",
            "5---------------\n",
            "Params: [-1.11748179  1.57229807  0.3       ]\n",
            "Cost: 0.04591741813102443\n",
            "6---------------\n",
            "Params: [-1.15729141  1.57052343  0.3       ]\n",
            "Cost: 0.03196590917631005\n",
            "7---------------\n",
            "Params: [-1.18777106  1.57084257  0.3       ]\n",
            "Cost: 0.02362818342857728\n",
            "8---------------\n",
            "Params: [-1.21214396  1.57078891  0.3       ]\n",
            "Cost: 0.018219089901185374\n",
            "9---------------\n",
            "Params: [-1.23224518  1.57079747  0.3       ]\n",
            "Cost: 0.014499249015392164\n",
            "10---------------\n",
            "Params: [-1.24921218  1.57079616  0.3       ]\n",
            "Cost: 0.011826032286632007\n",
            "11---------------\n",
            "Params: [-1.26379491  1.57079635  0.3       ]\n",
            "Cost: 0.00983754265868463\n",
            "12---------------\n",
            "Params: [-1.27651167  1.57079632  0.3       ]\n",
            "Cost: 0.008316678466433242\n",
            "13---------------\n",
            "Params: [-1.28773423  1.57079633  0.3       ]\n",
            "Cost: 0.007126494112598612\n",
            "14---------------\n",
            "Params: [-1.29773747  1.57079633  0.3       ]\n",
            "Cost: 0.00617699561794175\n",
            "15---------------\n",
            "Params: [-1.30672977  1.57079633  0.3       ]\n",
            "Cost: 0.005406993688149277\n",
            "16---------------\n",
            "Params: [-1.31487247  1.57079633  0.3       ]\n",
            "Cost: 0.004773667376232447\n",
            "17---------------\n",
            "Params: [-1.32229278  1.57079633  0.3       ]\n",
            "Cost: 0.004246299958100454\n",
            "18---------------\n",
            "Params: [-1.32909256  1.57079633  0.3       ]\n",
            "Cost: 0.003802379608912723\n",
            "19---------------\n",
            "Params: [-1.33535453  1.57079633  0.3       ]\n",
            "Cost: 0.003425094641652233\n",
            "20---------------\n",
            "Params: [-1.34114663  1.57079633  0.3       ]\n",
            "Cost: 0.003101679835630607\n",
            "21---------------\n",
            "Params: [-1.34652532  1.57079633  0.3       ]\n",
            "Cost: 0.0028222979900907833\n",
            "22---------------\n",
            "Params: [-1.35153793  1.57079633  0.3       ]\n",
            "Cost: 0.002579267090014665\n",
            "23---------------\n",
            "Params: [-1.3562245   1.57079633  0.3       ]\n",
            "Cost: 0.0023665159590808217\n",
            "24---------------\n",
            "Params: [-1.36061917  1.57079633  0.3       ]\n",
            "Cost: 0.002179194184504028\n",
            "25---------------\n",
            "Params: [-1.36475124  1.57079633  0.3       ]\n",
            "Cost: 0.0020133882011717096\n",
            "26---------------\n",
            "Params: [-1.36864604  1.57079633  0.3       ]\n",
            "Cost: 0.0018659116947625574\n",
            "27---------------\n",
            "Params: [-1.37232558  1.57079633  0.3       ]\n",
            "Cost: 0.0017341488545323483\n",
            "28---------------\n",
            "Params: [-1.37580913  1.57079633  0.3       ]\n",
            "Cost: 0.0016159357505231614\n",
            "29---------------\n",
            "Params: [-1.37911357  1.57079633  0.3       ]\n",
            "Cost: 0.0015094695766790297\n",
            "30---------------\n",
            "Params: [-1.38225386  1.57079633  0.3       ]\n",
            "Cost: 0.0014132385099077647\n",
            "31---------------\n",
            "Params: [-1.38524321  1.57079633  0.3       ]\n",
            "Cost: 0.0013259669931189497\n",
            "32---------------\n",
            "Params: [-1.38809341  1.57079633  0.3       ]\n",
            "Cost: 0.0012465726782743566\n",
            "33---------------\n",
            "Params: [-1.390815    1.57079633  0.3       ]\n",
            "Cost: 0.001174132269550707\n",
            "34---------------\n",
            "Params: [-1.3934174   1.57079633  0.3       ]\n",
            "Cost: 0.0011078542214225308\n",
            "35---------------\n",
            "Params: [-1.39590912  1.57079633  0.3       ]\n",
            "Cost: 0.001047056761064972\n",
            "36---------------\n",
            "Params: [-1.39829783  1.57079633  0.3       ]\n",
            "Cost: 0.0009911500789713567\n",
            "37---------------\n",
            "Params: [-1.40059047  1.57079633  0.3       ]\n",
            "Cost: 0.0009396218069553459\n",
            "38---------------\n",
            "Params: [-1.40279334  1.57079633  0.3       ]\n",
            "Cost: 0.0008920251069592111\n",
            "39---------------\n",
            "Params: [-1.40491217  1.57079633  0.3       ]\n",
            "Cost: 0.0008479688469888214\n",
            "40---------------\n",
            "Params: [-1.40695221  1.57079633  0.3       ]\n",
            "Cost: 0.0008071094559018593\n",
            "41---------------\n",
            "Params: [-1.40891823  1.57079633  0.3       ]\n",
            "Cost: 0.0007691441365768367\n",
            "42---------------\n",
            "Params: [-1.41081463  1.57079633  0.3       ]\n",
            "Cost: 0.0007338051842770766\n",
            "43---------------\n",
            "Params: [-1.41264544  1.57079633  0.3       ]\n",
            "Cost: 0.0007008552089610594\n",
            "44---------------\n",
            "Params: [-1.41441436  1.57079633  0.3       ]\n",
            "Cost: 0.0006700831006396443\n",
            "45---------------\n",
            "Params: [-1.41612483  1.57079633  0.3       ]\n",
            "Cost: 0.000641300608432011\n",
            "46---------------\n",
            "Params: [-1.41778001  1.57079633  0.3       ]\n",
            "Cost: 0.0006143394287868836\n",
            "47---------------\n",
            "Params: [-1.41938282  1.57079633  0.3       ]\n",
            "Cost: 0.0005890487179699551\n",
            "48---------------\n",
            "Params: [-1.42093598  1.57079633  0.3       ]\n",
            "Cost: 0.0005652929595329288\n",
            "49---------------\n",
            "Params: [-1.42244201  1.57079633  0.3       ]\n",
            "Cost: 0.0005429501299652958\n",
            "50---------------\n",
            "Params: [-1.42390325  1.57079633  0.3       ]\n",
            "Cost: 0.0005219101157634869\n",
            "51---------------\n",
            "Params: [-1.42532189  1.57079633  0.3       ]\n",
            "Cost: 0.0005020733432514326\n",
            "52---------------\n",
            "Params: [-1.42669997  1.57079633  0.3       ]\n",
            "Cost: 0.00048334958905634797\n",
            "53---------------\n",
            "Params: [-1.42803939  1.57079633  0.3       ]\n",
            "Cost: 0.000465656944494496\n",
            "54---------------\n",
            "Params: [-1.42934192  1.57079633  0.3       ]\n",
            "Cost: 0.000448920911499337\n",
            "55---------------\n",
            "Params: [-1.43060925  1.57079633  0.3       ]\n",
            "Cost: 0.00043307361131866547\n",
            "56---------------\n",
            "Params: [-1.43184293  1.57079633  0.3       ]\n",
            "Cost: 0.00041805309017215245\n",
            "57---------------\n",
            "Params: [-1.43304442  1.57079633  0.3       ]\n",
            "Cost: 0.0004038027085116888\n",
            "58---------------\n",
            "Params: [-1.43421512  1.57079633  0.3       ]\n",
            "Cost: 0.0003902706025649133\n",
            "59---------------\n",
            "Params: [-1.43535631  1.57079633  0.3       ]\n",
            "Cost: 0.0003774092085383942\n",
            "60---------------\n",
            "Params: [-1.43646923  1.57079633  0.3       ]\n",
            "Cost: 0.0003651748412761861\n",
            "61---------------\n",
            "Params: [-1.43755501  1.57079633  0.3       ]\n",
            "Cost: 0.0003535273203593197\n",
            "62---------------\n",
            "Params: [-1.43861475  1.57079633  0.3       ]\n",
            "Cost: 0.00034242963763323375\n",
            "63---------------\n",
            "Params: [-1.43964948  1.57079633  0.3       ]\n",
            "Cost: 0.00033184766099408675\n",
            "64---------------\n",
            "Params: [-1.44066017  1.57079633  0.3       ]\n",
            "Cost: 0.00032174986998071927\n",
            "65---------------\n",
            "Params: [-1.44164774  1.57079633  0.3       ]\n",
            "Cost: 0.00031210711932492505\n",
            "66---------------\n",
            "Params: [-1.44261306  1.57079633  0.3       ]\n",
            "Cost: 0.0003028924271288636\n",
            "67---------------\n",
            "Params: [-1.44355695  1.57079633  0.3       ]\n",
            "Cost: 0.0002940807847790138\n",
            "68---------------\n",
            "Params: [-1.4444802   1.57079633  0.3       ]\n",
            "Cost: 0.00028564898608211505\n",
            "69---------------\n",
            "Params: [-1.44538355  1.57079633  0.3       ]\n",
            "Cost: 0.0002775754734318811\n",
            "70---------------\n",
            "Params: [-1.4462677   1.57079633  0.3       ]\n",
            "Cost: 0.000269840199091707\n",
            "71---------------\n",
            "Params: [-1.44713334  1.57079633  0.3       ]\n",
            "Cost: 0.0002624244999185917\n",
            "72---------------\n",
            "Params: [-1.4479811   1.57079633  0.3       ]\n",
            "Cost: 0.0002553109840585309\n",
            "73---------------\n",
            "Params: [-1.44881158  1.57079633  0.3       ]\n",
            "Cost: 0.00024848342832314537\n",
            "74---------------\n",
            "Params: [-1.44962537  1.57079633  0.3       ]\n",
            "Cost: 0.00024192668511073946\n",
            "75---------------\n",
            "Params: [-1.45042302  1.57079633  0.3       ]\n",
            "Cost: 0.00023562659787007006\n",
            "76---------------\n",
            "Params: [-1.45120506  1.57079633  0.3       ]\n",
            "Cost: 0.00022956992422187465\n",
            "77---------------\n",
            "Params: [-1.451972    1.57079633  0.3       ]\n",
            "Cost: 0.00022374426595471602\n",
            "78---------------\n",
            "Params: [-1.4527243   1.57079633  0.3       ]\n",
            "Cost: 0.00021813800520114723\n",
            "79---------------\n",
            "Params: [-1.45346244  1.57079633  0.3       ]\n",
            "Cost: 0.00021274024617796118\n",
            "80---------------\n",
            "Params: [-1.45418686  1.57079633  0.3       ]\n",
            "Cost: 0.00020754076194255235\n",
            "81---------------\n",
            "Params: [-1.45489797  1.57079633  0.3       ]\n",
            "Cost: 0.00020252994567752786\n",
            "82---------------\n",
            "Params: [-1.45559618  1.57079633  0.3       ]\n",
            "Cost: 0.00019769876606837893\n",
            "83---------------\n",
            "Params: [-1.45628187  1.57079633  0.3       ]\n",
            "Cost: 0.00019303872638562345\n",
            "84---------------\n",
            "Params: [-1.45695542  1.57079633  0.3       ]\n",
            "Cost: 0.00018854182692386984\n",
            "85---------------\n",
            "Params: [-1.45761718  1.57079633  0.3       ]\n",
            "Cost: 0.00018420053048634138\n",
            "86---------------\n",
            "Params: [-1.45826749  1.57079633  0.3       ]\n",
            "Cost: 0.00018000773063599792\n",
            "87---------------\n",
            "Params: [-1.45890668  1.57079633  0.3       ]\n",
            "Cost: 0.00017595672246221669\n",
            "88---------------\n",
            "Params: [-1.45953506  1.57079633  0.3       ]\n",
            "Cost: 0.00017204117563789602\n",
            "89---------------\n",
            "Params: [-1.46015293  1.57079633  0.3       ]\n",
            "Cost: 0.00016825510956382264\n",
            "90---------------\n",
            "Params: [-1.46076059  1.57079633  0.3       ]\n",
            "Cost: 0.00016459287041766142\n",
            "91---------------\n",
            "Params: [-1.46135831  1.57079633  0.3       ]\n",
            "Cost: 0.00016104910994222914\n",
            "92---------------\n",
            "Params: [-1.46194637  1.57079633  0.3       ]\n",
            "Cost: 0.00015761876582414845\n",
            "93---------------\n",
            "Params: [-1.46252501  1.57079633  0.3       ]\n",
            "Cost: 0.0001542970435277296\n",
            "94---------------\n",
            "Params: [-1.46309449  1.57079633  0.3       ]\n",
            "Cost: 0.00015107939946230485\n",
            "95---------------\n",
            "Params: [-1.46365505  1.57079633  0.3       ]\n",
            "Cost: 0.00014796152537183396\n",
            "96---------------\n",
            "Params: [-1.46420692  1.57079633  0.3       ]\n",
            "Cost: 0.0001449393338467236\n",
            "97---------------\n",
            "Params: [-1.46475032  1.57079633  0.3       ]\n",
            "Cost: 0.00014200894486620587\n",
            "98---------------\n",
            "Params: [-1.46528547  1.57079633  0.3       ]\n",
            "Cost: 0.00013916667328857954\n",
            "99---------------\n",
            "Params: [-1.46581257  1.57079633  0.3       ]\n",
            "Cost: 0.0001364090172135193\n"
          ]
        }
      ],
      "source": [
        "# Training circuit part :P\n",
        "\n",
        "# Choose optimizer\n",
        "opt = qml.GradientDescentOptimizer(stepsize = 0.1)\n",
        "\n",
        "# Initial Guess\n",
        "params = np.array([0.1, 0.2, 0.3], requires_grad = True)\n",
        "\n",
        "# Iterate\n",
        "for i in range(100):\n",
        "  [params, _] = opt.step(cost, params, X)\n",
        "  c = cost(params, X)\n",
        "  print(f'{i}---------------')\n",
        "  print(f'Params: {params}')\n",
        "  print(f'Cost: {c}')"
      ]
    },
    {
      "cell_type": "code",
      "execution_count": null,
      "metadata": {
        "colab": {
          "base_uri": "https://localhost:8080/",
          "height": 472
        },
        "id": "cCEYFplFMHvw",
        "outputId": "59dce24c-2d39-4195-aaa9-87c33e86b811"
      },
      "outputs": [
        {
          "data": {
            "image/png": "[encoded data removed]",
            "text/plain": [
              "<Figure size 640x480 with 1 Axes>"
            ]
          },
          "metadata": {},
          "output_type": "display_data"
        }
      ],
      "source": [
        "test_predictions = []\n",
        "for x_test in X_test:\n",
        "    prediction = circuit3(params, x_test)\n",
        "    test_predictions.append(prediction)\n",
        "\n",
        "fig = plt.figure()\n",
        "ax1 = fig.add_subplot(111)\n",
        "\n",
        "ax1.scatter(X, np.sin(X), s=30, c='b', marker=\"s\", label=\"train outputs\")\n",
        "ax1.scatter(X_test, np.sin(X_test), s=60, c='r', marker=\"o\", label=\"test outputs\")\n",
        "ax1.scatter(X_test, test_predictions, s=30, c='k', marker=\"x\", label=\"test predictions\")\n",
        "\n",
        "plt.xlabel('Inputs')\n",
        "plt.ylabel('Outpus')\n",
        "plt.title('QML results')\n",
        "\n",
        "plt.legend(loc='upper right')\n",
        "plt.show()"
      ]
    },
    {
      "cell_type": "code",
      "execution_count": null,
      "metadata": {
        "id": "FsylF0IUo4dz"
      },
      "outputs": [],
      "source": []
    }
  ],
  "metadata": {
    "colab": {
      "provenance": [],
      "toc_visible": true
    },
    "kernelspec": {
      "display_name": "Python 3",
      "name": "python3"
    },
    "language_info": {
      "name": "python"
    }
  },
  "nbformat": 4,
  "nbformat_minor": 0
}
