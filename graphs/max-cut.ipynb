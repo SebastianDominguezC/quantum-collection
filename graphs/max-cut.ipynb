{
 "cells": [
  {
   "cell_type": "markdown",
   "metadata": {},
   "source": [
    "# Max-Cut with Cirq\n",
    "This notebook contains two problems of finding the max-cut in a graph.\n",
    "Developed these codes thanks to `Womanium` summer 2023."
   ]
  },
  {
   "cell_type": "code",
   "execution_count": 1,
   "metadata": {},
   "outputs": [],
   "source": [
    "import cirq\n",
    "from cirq import H, X, Y, Z, CX, inverse"
   ]
  },
  {
   "cell_type": "markdown",
   "metadata": {},
   "source": [
    "## Graph 0\n",
    "Implement the Grover algorithm for the following graph:\n",
    "\n",
    "<img src=\"../assets/completebipartite.png\" width=\"25%\" align=\"center\">\n"
   ]
  },
  {
   "cell_type": "code",
   "execution_count": 2,
   "metadata": {},
   "outputs": [
    {
     "name": "stdout",
     "output_type": "stream",
     "text": [
      "Random guess probability: 0.0625\n",
      "Probability of observing 1100 :  0.4699\n",
      "Probability of observing 0011 :  0.4741\n",
      "Probability of observing 1110 :  0.0044\n",
      "Probability of observing 0000 :  0.0046\n",
      "Probability of observing 1010 :  0.0038\n",
      "Probability of observing 1101 :  0.0039\n",
      "Probability of observing 1011 :  0.004\n",
      "Probability of observing 1001 :  0.0043\n",
      "Probability of observing 0001 :  0.0041\n",
      "Probability of observing 0010 :  0.0037\n",
      "Probability of observing 0101 :  0.0043\n",
      "Probability of observing 0111 :  0.0029\n",
      "Probability of observing 1111 :  0.0042\n",
      "Probability of observing 0110 :  0.0045\n",
      "Probability of observing 1000 :  0.0034\n",
      "Probability of observing 0100 :  0.0039\n"
     ]
    }
   ],
   "source": [
    "import cirq\n",
    "from cirq import H, Z, X, inverse, I, CX, CCX\n",
    "s = cirq.Simulator()\n",
    "\n",
    "# 0-3: vertices\n",
    "# 4-7: edge checking\n",
    "# 8-10: the number\n",
    "# 11: auxillary\n",
    "\n",
    "def edge_check(a, b, c):\n",
    "    yield CX(qq[a], qq[c])\n",
    "    yield CX(qq[b], qq[c])\n",
    "    \n",
    "def oracle_computation():\n",
    "    # EDGE CHECKS\n",
    "    # Edge 1: 0-2\n",
    "    yield edge_check(0, 2, 4)\n",
    "    # Edge 2: 0-3\n",
    "    yield edge_check(0, 3, 5)\n",
    "    # Edge 3: 2-1\n",
    "    yield edge_check(1, 2, 6)\n",
    "    # Edge 4: 1-3\n",
    "    yield edge_check(1, 3, 7)\n",
    "\n",
    "    # SUMS\n",
    "    # add edge 0\n",
    "    yield CX(qq[4], qq[8])\n",
    "\n",
    "    # add edge 1\n",
    "    yield CCX(qq[5], qq[8], qq[9])\n",
    "    yield CX(qq[5], qq[8])\n",
    "\n",
    "    # add edge 2\n",
    "    yield CCX(qq[6], qq[8], qq[9])\n",
    "    yield CX(qq[6], qq[8])\n",
    "\n",
    "    # add edge 3\n",
    "    yield X(qq[10]).controlled_by(qq[7], qq[8],qq[9])\n",
    "    yield CCX(qq[7], qq[8], qq[9])\n",
    "    yield CX(qq[7], qq[8])\n",
    "    \n",
    "    # Only mark 4 edges = 001\n",
    "    yield X(qq[8])\n",
    "    yield X(qq[9])\n",
    "    yield X(qq[11]).controlled_by(*qq[8:11])  \n",
    "\n",
    "    \n",
    "def oracle(): \n",
    "    yield oracle_computation()\n",
    "    yield Z(qq[11])\n",
    "    yield inverse(oracle_computation())\n",
    "    \n",
    "def grover_diffusion():\n",
    "    yield H.on_each(*(qq[:4]))\n",
    "    yield X.on_each(*(qq[:4]))\n",
    "    yield Z(qq[3]).controlled_by(qq[0], qq[1], qq[2])\n",
    "    yield X.on_each(*(qq[:4]))\n",
    "    yield H.on_each(*(qq[:4]))\n",
    "\n",
    "# the Grover algorithm\n",
    "qq = cirq.LineQubit.range(12) \n",
    "circuit = cirq.Circuit()\n",
    "circuit.append(H.on_each(*(qq[0:4])))\n",
    "\n",
    "for i in range(2):\n",
    "    circuit.append(oracle())\n",
    "    circuit.append(grover_diffusion())\n",
    "circuit.append(cirq.measure(*qq[0:4], key='result'))\n",
    "\n",
    "# determine the statistics of the measurements\n",
    "trials_number = 10_000\n",
    "samples = s.run(circuit, repetitions=trials_number)\n",
    "result = samples.measurements[\"result\"]\n",
    "\n",
    "print(\"Random guess probability:\", 1/2**4)\n",
    "# create an histogram of the result\n",
    "def bitstring(bits):\n",
    "    return \"\".join(str(int(b)) for b in bits)\n",
    "counts = samples.histogram(key=\"result\",fold_func=bitstring)\n",
    "for state, c in counts.items():\n",
    "    print(\"Probability of observing\", state, \": \" ,c/trials_number)"
   ]
  },
  {
   "cell_type": "markdown",
   "metadata": {},
   "source": [
    "## Graph 1\n",
    "$G$ has 5 vertices. Use qubits 0-4 for the vertices, 5-10 for the edges and 11 as the ancilla.\n",
    "\n",
    "The list of edges:\n",
    "(0,3)\n",
    "(0,4)\n",
    "(1,3)\n",
    "(1,4)\n",
    "(2,3)\n",
    "(2,4)"
   ]
  },
  {
   "cell_type": "code",
   "execution_count": 3,
   "metadata": {},
   "outputs": [],
   "source": [
    "# Diffusion operator\n",
    "def grover_diffusion(qq,n):\n",
    "    yield H.on_each(*qq)\n",
    "    yield X.on_each(*qq)\n",
    "    yield Z(qq[n-1]).controlled_by(*(qq[0:n-1]))\n",
    "    yield X.on_each(*qq)\n",
    "    yield H.on_each(*qq)"
   ]
  },
  {
   "cell_type": "code",
   "execution_count": 4,
   "metadata": {},
   "outputs": [],
   "source": [
    "# Using the usefull edge check from the notebooks :P\n",
    "def edge_check(a, b, c, qq):\n",
    "    yield CX(qq[a], qq[c])\n",
    "    yield CX(qq[b], qq[c])\n",
    "    \n",
    "def oracle2(qq):\n",
    "    # EDGE CHECKS\n",
    "    yield edge_check(0, 3, 5, qq)\n",
    "    yield edge_check(0, 4, 6, qq)\n",
    "    yield edge_check(1, 3, 7, qq)\n",
    "    yield edge_check(1, 4, 8, qq)\n",
    "    yield edge_check(2, 3, 9, qq)\n",
    "    yield edge_check(2, 4, 10, qq)\n",
    "    \n",
    "    # Mark element\n",
    "    yield X(qq[11]).controlled_by(*qq[5:11])\n",
    "        "
   ]
  },
  {
   "cell_type": "code",
   "execution_count": 5,
   "metadata": {},
   "outputs": [],
   "source": [
    "def oracle_computation2(qq):\n",
    "    yield oracle2(qq)\n",
    "    yield Z(qq[11])\n",
    "    yield inverse(oracle2(qq))  "
   ]
  },
  {
   "cell_type": "code",
   "execution_count": 6,
   "metadata": {},
   "outputs": [],
   "source": [
    "def grover2(trials_number):    \n",
    "    import cirq\n",
    "    from cirq import X, H, Z, inverse, CX\n",
    "    s = cirq.Simulator()\n",
    "\n",
    "    qq = cirq.LineQubit.range(12)\n",
    "    n=5\n",
    "    \n",
    "    circuit = cirq.Circuit()\n",
    "    circuit.append(H.on_each(*(qq[0:n])))\n",
    "    for i in range(2):\n",
    "        circuit.append(oracle_computation2(qq))\n",
    "        circuit.append(grover_diffusion(qq,n))\n",
    "\n",
    "    circuit.append(cirq.measure(*(qq[0:n]), key='result'))\n",
    "\n",
    "    # determine the statistics of the measurements\n",
    "    samples = s.run(circuit, repetitions=trials_number)\n",
    "    result = samples.measurements[\"result\"]\n",
    "\n",
    "    def bitstring(bits):\n",
    "        return \"\".join(str(int(b)) for b in bits)\n",
    "\n",
    "    counts = samples.histogram(key=\"result\",fold_func=bitstring)\n",
    "    return counts"
   ]
  },
  {
   "cell_type": "code",
   "execution_count": 7,
   "metadata": {},
   "outputs": [
    {
     "data": {
      "text/plain": [
       "Counter({'00011': 462,\n",
       "         '11100': 440,\n",
       "         '01111': 2,\n",
       "         '10001': 6,\n",
       "         '10010': 5,\n",
       "         '10110': 8,\n",
       "         '01001': 4,\n",
       "         '00010': 1,\n",
       "         '00100': 3,\n",
       "         '00110': 4,\n",
       "         '11011': 6,\n",
       "         '01100': 3,\n",
       "         '11000': 4,\n",
       "         '00111': 3,\n",
       "         '10101': 6,\n",
       "         '00000': 4,\n",
       "         '01011': 4,\n",
       "         '00001': 3,\n",
       "         '01010': 6,\n",
       "         '11001': 5,\n",
       "         '10011': 4,\n",
       "         '01101': 1,\n",
       "         '01110': 1,\n",
       "         '01000': 3,\n",
       "         '10000': 3,\n",
       "         '00101': 3,\n",
       "         '11010': 3,\n",
       "         '11101': 1,\n",
       "         '11110': 1,\n",
       "         '10111': 1})"
      ]
     },
     "execution_count": 7,
     "metadata": {},
     "output_type": "execute_result"
    }
   ],
   "source": [
    "shots=1000\n",
    "grover2(shots)"
   ]
  },
  {
   "cell_type": "markdown",
   "metadata": {},
   "source": [
    "Max-cut is 11100 or conversely 00011."
   ]
  },
  {
   "cell_type": "markdown",
   "metadata": {},
   "source": [
    "## Graph 2\n",
    "$G$ has 4 vertices. Use qubits 0-3 for the vertices, 4-8 for the edges, 9-11 for the addition and 12 as the ancilla.\n",
    "\n",
    "The list of edges: \n",
    "(0,1)\n",
    "(0,2)\n",
    "(0,3)\n",
    "(1,2)\n",
    "(1,3)"
   ]
  },
  {
   "cell_type": "code",
   "execution_count": 8,
   "metadata": {},
   "outputs": [],
   "source": [
    "# Using the usefull edge check from the notebooks :P\n",
    "def edge_check(a, b, c, qq):\n",
    "    yield CX(qq[a], qq[c])\n",
    "    yield CX(qq[b], qq[c])\n",
    "    \n",
    "def oracle3(qq):\n",
    "    # EDGE CHECKS\n",
    "    yield edge_check(0, 1, 4, qq)\n",
    "    yield edge_check(0, 2, 5, qq)\n",
    "    yield edge_check(0, 3, 6, qq)\n",
    "    yield edge_check(1, 2, 7, qq)\n",
    "    yield edge_check(1, 3, 8, qq)\n",
    "    \n",
    "    # SUMS\n",
    "    # Add edge 4    \n",
    "    yield CX(qq[4], qq[9])\n",
    "    \n",
    "    # Add edge 5-6\n",
    "    for i in range(5, 7):\n",
    "        yield X(qq[10]).controlled_by(qq[i], qq[9])\n",
    "        yield CX(qq[i], qq[9])\n",
    "    \n",
    "    # Add edge 7-8\n",
    "    for i in range(7, 9):\n",
    "        yield X(qq[11]).controlled_by(qq[i], qq[9], qq[10])\n",
    "        yield X(qq[10]).controlled_by(qq[i], qq[9])\n",
    "        yield CX(qq[i], qq[9])\n",
    "    \n",
    "    # Only mark 4 edges = 001\n",
    "    yield X(qq[9])\n",
    "    yield X(qq[10])\n",
    "    yield X(qq[12]).controlled_by(*qq[9:12]) \n",
    "    "
   ]
  },
  {
   "cell_type": "code",
   "execution_count": 9,
   "metadata": {},
   "outputs": [],
   "source": [
    "def oracle_computation3(qq):\n",
    "    yield oracle3(qq)\n",
    "    yield Z(qq[12])\n",
    "    yield inverse(oracle3(qq))  "
   ]
  },
  {
   "cell_type": "code",
   "execution_count": 10,
   "metadata": {},
   "outputs": [],
   "source": [
    "def grover3(trials_number):    \n",
    "    s = cirq.Simulator()\n",
    "\n",
    "    qq = cirq.LineQubit.range(13)\n",
    "    n=4\n",
    "\n",
    "    circuit = cirq.Circuit()\n",
    "    circuit.append(H.on_each(*(qq[0:n])))\n",
    "    for i in range(2):\n",
    "        circuit.append(oracle_computation3(qq))\n",
    "        circuit.append(grover_diffusion(qq,n))\n",
    "\n",
    "    circuit.append(cirq.measure(*(qq[0:n]), key='result'))\n",
    "\n",
    "    # determine the statistics of the measurements\n",
    "    samples = s.run(circuit, repetitions=trials_number)\n",
    "    result = samples.measurements[\"result\"]\n",
    "\n",
    "    def bitstring(bits):\n",
    "        return \"\".join(str(int(b)) for b in bits)\n",
    "\n",
    "    counts = samples.histogram(key=\"result\",fold_func=bitstring)\n",
    "    return counts"
   ]
  },
  {
   "cell_type": "code",
   "execution_count": 11,
   "metadata": {},
   "outputs": [
    {
     "data": {
      "text/plain": [
       "Counter({'1010': 2,\n",
       "         '0011': 462,\n",
       "         '1100': 487,\n",
       "         '0010': 7,\n",
       "         '1001': 7,\n",
       "         '1110': 8,\n",
       "         '1011': 4,\n",
       "         '1000': 5,\n",
       "         '0001': 3,\n",
       "         '0100': 2,\n",
       "         '0000': 1,\n",
       "         '0110': 2,\n",
       "         '0101': 5,\n",
       "         '0111': 1,\n",
       "         '1111': 2,\n",
       "         '1101': 2})"
      ]
     },
     "execution_count": 11,
     "metadata": {},
     "output_type": "execute_result"
    }
   ],
   "source": [
    "shots=1000\n",
    "grover3(shots)"
   ]
  },
  {
   "cell_type": "markdown",
   "metadata": {},
   "source": [
    "Max cut is 1100 or 0011"
   ]
  }
 ],
 "metadata": {
  "kernelspec": {
   "display_name": "Python 3",
   "language": "python",
   "name": "python3"
  },
  "language_info": {
   "codemirror_mode": {
    "name": "ipython",
    "version": 3
   },
   "file_extension": ".py",
   "mimetype": "text/x-python",
   "name": "python",
   "nbconvert_exporter": "python",
   "pygments_lexer": "ipython3",
   "version": "3.10.7"
  },
  "orig_nbformat": 4
 },
 "nbformat": 4,
 "nbformat_minor": 2
}
